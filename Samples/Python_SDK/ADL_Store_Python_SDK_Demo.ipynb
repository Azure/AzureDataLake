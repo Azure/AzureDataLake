{
 "cells": [
  {
   "cell_type": "code",
   "execution_count": null,
   "metadata": {
    "collapsed": true
   },
   "outputs": [],
   "source": [
    "adls_name = \"datainsightsadhoc\" # Change this to your ADLS Accountg\n",
    "tenant_id = \"microsoft.onmicrosoft.com\" # Change this to your AD tenant"
   ]
  },
  {
   "cell_type": "code",
   "execution_count": null,
   "metadata": {
    "collapsed": false
   },
   "outputs": [],
   "source": [
    "import azure.datalake.store"
   ]
  },
  {
   "cell_type": "code",
   "execution_count": null,
   "metadata": {
    "collapsed": true
   },
   "outputs": [],
   "source": [
    "def get_token_prompt(tenant_id):\n",
    "    import adal\n",
    "    import time\n",
    "    authority = 'https://login.microsoftonline.com/' # LEAVE THIS ALONE\n",
    "    resource = 'https://management.core.windows.net/' # LEAVE THIS ALONE\n",
    "    client_id = '1950a258-227b-4e31-a9cf-717495945fc2' # THIS IS THE AZURE POWERSHELL CLIENTID\n",
    "    \n",
    "    context = adal.AuthenticationContext(authority + tenant_id)\n",
    "    code = context.acquire_user_code(resource, client_id)\n",
    "    print(code['message'])\n",
    "    token = context.acquire_token_with_device_code(resource, code, client_id)\n",
    "    token.update({'access': token['accessToken'], 'resource': resource,\n",
    "                'refresh': token.get('refreshToken', False),\n",
    "                'time': time.time(), 'tenant': tenant_id, 'client': client_id})\n",
    "    return token"
   ]
  },
  {
   "cell_type": "code",
   "execution_count": null,
   "metadata": {
    "collapsed": false
   },
   "outputs": [],
   "source": [
    "load_token = True\n",
    "save_token = False\n",
    "token_filename = 'd:\\\\adlstoken.pickle'\n",
    "\n",
    "import os\n",
    "import pickle\n",
    "\n",
    "\n",
    "if (load_token and os.path.exists(token_filename)) :\n",
    "    token = pickle.load( open( token_filename, 'rb') )\n",
    "else :        \n",
    "    token = get_token_prompt(tenant_id)\n",
    "    \n",
    "if (save_token) :\n",
    "    pickle.dump( token, open( token_filename, 'wb') )"
   ]
  },
  {
   "cell_type": "code",
   "execution_count": null,
   "metadata": {
    "collapsed": false
   },
   "outputs": [],
   "source": [
    "print(token)"
   ]
  },
  {
   "cell_type": "code",
   "execution_count": null,
   "metadata": {
    "collapsed": false
   },
   "outputs": [],
   "source": [
    "print(token.keys())"
   ]
  },
  {
   "cell_type": "code",
   "execution_count": null,
   "metadata": {
    "collapsed": false
   },
   "outputs": [],
   "source": [
    "fsclient = azure.datalake.store.core.AzureDLFileSystem(token, store_name=\"datainsightsadhoc\")\n"
   ]
  },
  {
   "cell_type": "code",
   "execution_count": null,
   "metadata": {
    "collapsed": false
   },
   "outputs": [],
   "source": [
    "dir(fsclient)"
   ]
  },
  {
   "cell_type": "code",
   "execution_count": null,
   "metadata": {
    "collapsed": false
   },
   "outputs": [],
   "source": [
    "\n",
    "fsclient.ls()"
   ]
  },
  {
   "cell_type": "code",
   "execution_count": null,
   "metadata": {
    "collapsed": true
   },
   "outputs": [],
   "source": [
    "fsclient.mkdir('/python_sdk_demo')"
   ]
  },
  {
   "cell_type": "code",
   "execution_count": null,
   "metadata": {
    "collapsed": false,
    "scrolled": true
   },
   "outputs": [],
   "source": [
    "fsclient.ls('/python_sdk_demo')"
   ]
  },
  {
   "cell_type": "code",
   "execution_count": null,
   "metadata": {
    "collapsed": false
   },
   "outputs": [],
   "source": [
    "import os\n",
    "\n",
    "if (not (os.path.exists('d:\\\\test.txt'))) :\n",
    "    f = open( 'd:\\\\test.txt', 'w')\n",
    "    f.write(\"Hello World\")\n",
    "    f.close()"
   ]
  },
  {
   "cell_type": "code",
   "execution_count": null,
   "metadata": {
    "collapsed": false
   },
   "outputs": [],
   "source": [
    "\n",
    "if (fsclient.exists( '/python_sdk_demo/test.txt' )) :\n",
    "    fsclient.rm( '/python_sdk_demo/test.txt' )\n",
    "    \n",
    "azure.datalake.store.multithread.ADLUploader(fsclient, lpath='d:\\\\test.txt', rpath='/python_sdk_demo/test.txt')"
   ]
  },
  {
   "cell_type": "code",
   "execution_count": null,
   "metadata": {
    "collapsed": false
   },
   "outputs": [],
   "source": [
    "fsclient.ls('/python_sdk_demo')"
   ]
  },
  {
   "cell_type": "code",
   "execution_count": null,
   "metadata": {
    "collapsed": true
   },
   "outputs": [],
   "source": [
    "fsclient.rm('/python_sdk_demo', recursive=True)"
   ]
  },
  {
   "cell_type": "code",
   "execution_count": null,
   "metadata": {
    "collapsed": false
   },
   "outputs": [],
   "source": [
    "fsclient.ls()"
   ]
  },
  {
   "cell_type": "code",
   "execution_count": null,
   "metadata": {
    "collapsed": true
   },
   "outputs": [],
   "source": []
  },
  {
   "cell_type": "code",
   "execution_count": null,
   "metadata": {
    "collapsed": true
   },
   "outputs": [],
   "source": []
  },
  {
   "cell_type": "code",
   "execution_count": null,
   "metadata": {
    "collapsed": true
   },
   "outputs": [],
   "source": []
  },
  {
   "cell_type": "code",
   "execution_count": null,
   "metadata": {
    "collapsed": true
   },
   "outputs": [],
   "source": []
  },
  {
   "cell_type": "code",
   "execution_count": null,
   "metadata": {
    "collapsed": true
   },
   "outputs": [],
   "source": []
  }
 ],
 "metadata": {
  "anaconda-cloud": {},
  "kernelspec": {
   "display_name": "Python [default]",
   "language": "python",
   "name": "python3"
  },
  "language_info": {
   "codemirror_mode": {
    "name": "ipython",
    "version": 3
   },
   "file_extension": ".py",
   "mimetype": "text/x-python",
   "name": "python",
   "nbconvert_exporter": "python",
   "pygments_lexer": "ipython3",
   "version": "3.5.2"
  }
 },
 "nbformat": 4,
 "nbformat_minor": 1
}
