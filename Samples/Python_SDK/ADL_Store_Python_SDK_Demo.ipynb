{
 "cells": [
  {
   "cell_type": "code",
   "execution_count": null,
   "metadata": {
    "collapsed": true
   },
   "outputs": [],
   "source": [
    "adls_name = \"datainsightsadhoc\" # Change this to your ADLS Accountg\n",
    "tenant_id = \"microsoft.onmicrosoft.com\" # Change this to your AD tenant"
   ]
  },
  {
   "cell_type": "code",
   "execution_count": 2,
   "metadata": {
    "collapsed": false
   },
   "outputs": [],
   "source": [
    "import azure.datalake.store"
   ]
  },
  {
   "cell_type": "code",
   "execution_count": 24,
   "metadata": {
    "collapsed": false
   },
   "outputs": [],
   "source": [
    "load_token = True\n",
    "save_token = False\n",
    "token_filename = 'd:\\\\adlstoken.pickle'\n",
    "\n",
    "import os\n",
    "import pickle\n",
    "\n",
    "if (load_token and os.path.exists(token_filename)) :\n",
    "    token = pickle.load( open( token_filename, 'rb') )\n",
    "else :        \n",
    "    token = azure.datalake.store.lib.auth(tenant_id)\n",
    "    \n",
    "if (save_token) :\n",
    "    pickle.dump( token, open( token_filename, 'wb') )"
   ]
  },
  {
   "cell_type": "code",
   "execution_count": 6,
   "metadata": {
    "collapsed": false
   },
   "outputs": [
    {
     "name": "stdout",
     "output_type": "stream",
     "text": [
      "<class 'dict'>\n"
     ]
    }
   ],
   "source": [
    "print(type(token))"
   ]
  },
  {
   "cell_type": "code",
   "execution_count": 28,
   "metadata": {
    "collapsed": false
   },
   "outputs": [
    {
     "name": "stdout",
     "output_type": "stream",
     "text": [
      "dict_keys(['tokenType', 'userId', 'client', 'givenName', 'time', 'accessToken', 'isMRRT', 'isUserIdDisplayable', 'expiresOn', 'familyName', 'tenantId', 'access', 'refresh', 'expiresIn', 'oid', 'tenant', '_clientId', '_authority', 'resource', 'refreshToken'])\n",
      "3599\n"
     ]
    }
   ],
   "source": [
    "print(token.keys())"
   ]
  },
  {
   "cell_type": "code",
   "execution_count": 27,
   "metadata": {
    "collapsed": false
   },
   "outputs": [],
   "source": [
    "fsclient = azure.datalake.store.core.AzureDLFileSystem(token, store_name=\"datainsightsadhoc\")\n"
   ]
  },
  {
   "cell_type": "code",
   "execution_count": 9,
   "metadata": {
    "collapsed": false
   },
   "outputs": [
    {
     "data": {
      "text/plain": [
       "['__class__',\n",
       " '__delattr__',\n",
       " '__dict__',\n",
       " '__dir__',\n",
       " '__doc__',\n",
       " '__eq__',\n",
       " '__format__',\n",
       " '__ge__',\n",
       " '__getattribute__',\n",
       " '__gt__',\n",
       " '__hash__',\n",
       " '__init__',\n",
       " '__le__',\n",
       " '__lt__',\n",
       " '__module__',\n",
       " '__ne__',\n",
       " '__new__',\n",
       " '__reduce__',\n",
       " '__reduce_ex__',\n",
       " '__repr__',\n",
       " '__setattr__',\n",
       " '__setstate__',\n",
       " '__sizeof__',\n",
       " '__str__',\n",
       " '__subclasshook__',\n",
       " '__weakref__',\n",
       " '_ls',\n",
       " '_singleton',\n",
       " '_walk',\n",
       " 'access',\n",
       " 'azure',\n",
       " 'cat',\n",
       " 'chmod',\n",
       " 'chown',\n",
       " 'concat',\n",
       " 'connect',\n",
       " 'cp',\n",
       " 'current',\n",
       " 'df',\n",
       " 'dirs',\n",
       " 'du',\n",
       " 'exists',\n",
       " 'get',\n",
       " 'glob',\n",
       " 'head',\n",
       " 'info',\n",
       " 'invalidate_cache',\n",
       " 'kwargs',\n",
       " 'listdir',\n",
       " 'ls',\n",
       " 'merge',\n",
       " 'mkdir',\n",
       " 'mv',\n",
       " 'open',\n",
       " 'put',\n",
       " 'read_block',\n",
       " 'remove',\n",
       " 'rename',\n",
       " 'rm',\n",
       " 'rmdir',\n",
       " 'stat',\n",
       " 'tail',\n",
       " 'token',\n",
       " 'touch',\n",
       " 'unlink',\n",
       " 'walk']"
      ]
     },
     "execution_count": 9,
     "metadata": {},
     "output_type": "execute_result"
    }
   ],
   "source": [
    "dir(fsclient)"
   ]
  },
  {
   "cell_type": "code",
   "execution_count": 10,
   "metadata": {
    "collapsed": false
   },
   "outputs": [
    {
     "data": {
      "text/plain": [
       "['ADLAccountTbl.txt',\n",
       " 'ADLAccountTblInUser.txt',\n",
       " 'JobRepository-testing',\n",
       " 'Outputs',\n",
       " 'PreviewResultFolder',\n",
       " 'Ram',\n",
       " 'Samples',\n",
       " 'alan',\n",
       " 'anupama',\n",
       " 'bar.txt',\n",
       " 'catalog',\n",
       " 'chakrab',\n",
       " 'chrome_elf.dll',\n",
       " 'demo',\n",
       " 'foo.txt',\n",
       " 'liyafan',\n",
       " 'mlevin',\n",
       " 'my',\n",
       " 'output',\n",
       " 'pimorano',\n",
       " 'pkasturidr',\n",
       " 'python_sdk_demo',\n",
       " 'saveenr',\n",
       " 'system',\n",
       " 'test',\n",
       " 'users',\n",
       " 'vifeng',\n",
       " 'vinwang',\n",
       " 'yanacai',\n",
       " 'zoltan']"
      ]
     },
     "execution_count": 10,
     "metadata": {},
     "output_type": "execute_result"
    }
   ],
   "source": [
    "\n",
    "fsclient.ls()"
   ]
  },
  {
   "cell_type": "code",
   "execution_count": 11,
   "metadata": {
    "collapsed": true
   },
   "outputs": [],
   "source": [
    "fsclient.mkdir('/python_sdk_demo')"
   ]
  },
  {
   "cell_type": "code",
   "execution_count": 12,
   "metadata": {
    "collapsed": false,
    "scrolled": true
   },
   "outputs": [
    {
     "data": {
      "text/plain": [
       "['python_sdk_demo/test.txt']"
      ]
     },
     "execution_count": 12,
     "metadata": {},
     "output_type": "execute_result"
    }
   ],
   "source": [
    "fsclient.ls('/python_sdk_demo')"
   ]
  },
  {
   "cell_type": "code",
   "execution_count": 13,
   "metadata": {
    "collapsed": false
   },
   "outputs": [],
   "source": [
    "import os\n",
    "\n",
    "if (not (os.path.exists('d:\\\\test.txt'))) :\n",
    "    f = open( 'd:\\\\test.txt', 'w')\n",
    "    f.write(\"Hello World\")\n",
    "    f.close()"
   ]
  },
  {
   "cell_type": "code",
   "execution_count": 20,
   "metadata": {
    "collapsed": false
   },
   "outputs": [
    {
     "name": "stdout",
     "output_type": "stream",
     "text": [
      "\b\b\b\b\b\b\b\b\b\b\b\b\b\b\b\b\b\b\b\b\b\b\b\b\b\b\b\b\b\b\b\b\b\b\b\b\b\b\b\b\b\b\b\b\b\b\b\b\b\b\b\b\b\b\b\b\b\b\b\b\b\b\b\b\b\b\b\b\b\b\b\b\b\b\b\b\b\b\b\b\b\b\b\b\b\b\b\b\b\b\b\b\b\b\b\b\b\b\b\b\b\b\b\b\b\b\b\b\b\b\b\b\b\b\b\b\b\b\b\b\b\b\b\b\b\b\b\b\b\b\b\b\b\b\b\b\b\b\b\b\b\b\b\b\b\b\b\b\b\b\b\b\b\b\b\b\b\b\b\b\b\b\b\b\b\b\b\b\b\b\b\b\b\b\b\b\b\b\b\b\b\b\b\b\b\b\b\b\b\b\b\b\b\b\b\b\b\b\b\b {'finished': 1}"
     ]
    },
    {
     "data": {
      "text/plain": [
       "<ADL Upload: d:\\test.txt -> \\python_sdk_demo\\test.txt ({'finished': 1})>"
      ]
     },
     "execution_count": 20,
     "metadata": {},
     "output_type": "execute_result"
    }
   ],
   "source": [
    "\n",
    "if (fsclient.exists( '/python_sdk_demo/test.txt' )) :\n",
    "    fsclient.rm( '/python_sdk_demo/test.txt' )\n",
    "    \n",
    "azure.datalake.store.multithread.ADLUploader(fsclient, lpath='d:\\\\test.txt', rpath='/python_sdk_demo/test.txt')"
   ]
  },
  {
   "cell_type": "code",
   "execution_count": 21,
   "metadata": {
    "collapsed": false
   },
   "outputs": [
    {
     "data": {
      "text/plain": [
       "['python_sdk_demo/test.txt']"
      ]
     },
     "execution_count": 21,
     "metadata": {},
     "output_type": "execute_result"
    }
   ],
   "source": [
    "fsclient.ls('/python_sdk_demo')"
   ]
  },
  {
   "cell_type": "code",
   "execution_count": 22,
   "metadata": {
    "collapsed": true
   },
   "outputs": [],
   "source": [
    "fsclient.rm('/python_sdk_demo', recursive=True)"
   ]
  },
  {
   "cell_type": "code",
   "execution_count": 23,
   "metadata": {
    "collapsed": false
   },
   "outputs": [
    {
     "data": {
      "text/plain": [
       "['ADLAccountTbl.txt',\n",
       " 'ADLAccountTblInUser.txt',\n",
       " 'JobRepository-testing',\n",
       " 'Outputs',\n",
       " 'PreviewResultFolder',\n",
       " 'Ram',\n",
       " 'Samples',\n",
       " 'alan',\n",
       " 'anupama',\n",
       " 'bar.txt',\n",
       " 'catalog',\n",
       " 'chakrab',\n",
       " 'chrome_elf.dll',\n",
       " 'demo',\n",
       " 'foo.txt',\n",
       " 'liyafan',\n",
       " 'mlevin',\n",
       " 'my',\n",
       " 'output',\n",
       " 'pimorano',\n",
       " 'pkasturidr',\n",
       " 'saveenr',\n",
       " 'system',\n",
       " 'test',\n",
       " 'users',\n",
       " 'vifeng',\n",
       " 'vinwang',\n",
       " 'yanacai',\n",
       " 'zoltan']"
      ]
     },
     "execution_count": 23,
     "metadata": {},
     "output_type": "execute_result"
    }
   ],
   "source": [
    "fsclient.ls()"
   ]
  },
  {
   "cell_type": "code",
   "execution_count": null,
   "metadata": {
    "collapsed": true
   },
   "outputs": [],
   "source": []
  },
  {
   "cell_type": "code",
   "execution_count": null,
   "metadata": {
    "collapsed": true
   },
   "outputs": [],
   "source": []
  }
 ],
 "metadata": {
  "anaconda-cloud": {},
  "kernelspec": {
   "display_name": "Python [default]",
   "language": "python",
   "name": "python3"
  },
  "language_info": {
   "codemirror_mode": {
    "name": "ipython",
    "version": 3
   },
   "file_extension": ".py",
   "mimetype": "text/x-python",
   "name": "python",
   "nbconvert_exporter": "python",
   "pygments_lexer": "ipython3",
   "version": "3.5.2"
  }
 },
 "nbformat": 4,
 "nbformat_minor": 1
}
